{
 "cells": [
  {
   "cell_type": "code",
   "execution_count": 2,
   "id": "9978ecbd-85fe-4c65-8565-1ad0a3d0e90c",
   "metadata": {},
   "outputs": [
    {
     "name": "stdin",
     "output_type": "stream",
     "text": [
      "introduzca el primer número 5\n"
     ]
    }
   ],
   "source": [
    "a=int(input(\"introduzca el primer número\"))"
   ]
  },
  {
   "cell_type": "code",
   "execution_count": 3,
   "id": "d29a204b-1903-4080-b27d-eac1c4997131",
   "metadata": {},
   "outputs": [
    {
     "name": "stdout",
     "output_type": "stream",
     "text": [
      "2.23606797749979\n"
     ]
    }
   ],
   "source": [
    "print(a ** (0.5))"
   ]
  },
  {
   "cell_type": "code",
   "execution_count": null,
   "id": "a75501a5-6136-4c42-8aa3-767b9f6478c1",
   "metadata": {},
   "outputs": [],
   "source": []
  }
 ],
 "metadata": {
  "kernelspec": {
   "display_name": "Python 3",
   "language": "python",
   "name": "python3"
  },
  "language_info": {
   "codemirror_mode": {
    "name": "ipython",
    "version": 3
   },
   "file_extension": ".py",
   "mimetype": "text/x-python",
   "name": "python",
   "nbconvert_exporter": "python",
   "pygments_lexer": "ipython3",
   "version": "3.8.8"
  }
 },
 "nbformat": 4,
 "nbformat_minor": 5
}
