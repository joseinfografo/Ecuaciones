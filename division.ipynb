{
 "cells": [
  {
   "cell_type": "code",
   "execution_count": 1,
   "id": "977777f4-343e-4148-b884-f34d0feb1849",
   "metadata": {},
   "outputs": [
    {
     "name": "stdin",
     "output_type": "stream",
     "text": [
      "introduzca el primer número 10\n"
     ]
    }
   ],
   "source": [
    "a=int(input(\"introduzca el primer número\"))"
   ]
  },
  {
   "cell_type": "code",
   "execution_count": 2,
   "id": "e2031252-92e6-4c07-87ae-62e6d5c55481",
   "metadata": {},
   "outputs": [
    {
     "name": "stdin",
     "output_type": "stream",
     "text": [
      "introduzca el segundo numero 2\n"
     ]
    }
   ],
   "source": [
    "b=int(input('introduzca el segundo numero'))"
   ]
  },
  {
   "cell_type": "code",
   "execution_count": 3,
   "id": "014b6766-369a-48d0-a30b-82b42a4c4aee",
   "metadata": {},
   "outputs": [],
   "source": [
    "division=a/b"
   ]
  },
  {
   "cell_type": "code",
   "execution_count": 4,
   "id": "cb5c862d-f918-4f99-bcc0-1f1de756eab1",
   "metadata": {},
   "outputs": [
    {
     "name": "stdout",
     "output_type": "stream",
     "text": [
      "5.0\n"
     ]
    }
   ],
   "source": [
    "print(division)"
   ]
  }
 ],
 "metadata": {
  "kernelspec": {
   "display_name": "Python 3",
   "language": "python",
   "name": "python3"
  },
  "language_info": {
   "codemirror_mode": {
    "name": "ipython",
    "version": 3
   },
   "file_extension": ".py",
   "mimetype": "text/x-python",
   "name": "python",
   "nbconvert_exporter": "python",
   "pygments_lexer": "ipython3",
   "version": "3.8.8"
  }
 },
 "nbformat": 4,
 "nbformat_minor": 5
}
