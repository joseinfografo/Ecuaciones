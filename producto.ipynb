{
 "cells": [
  {
   "cell_type": "code",
   "execution_count": 6,
   "id": "9978ecbd-85fe-4c65-8565-1ad0a3d0e90c",
   "metadata": {},
   "outputs": [
    {
     "ename": "ValueError",
     "evalue": "invalid literal for int() with base 10: ''",
     "output_type": "error",
     "traceback": [
      "\u001b[0;31m---------------------------------------------------------------------------\u001b[0m",
      "\u001b[0;31mValueError\u001b[0m                                Traceback (most recent call last)",
      "\u001b[0;32m<ipython-input-6-98a7de5134f4>\u001b[0m in \u001b[0;36m<module>\u001b[0;34m\u001b[0m\n\u001b[0;32m----> 1\u001b[0;31m \u001b[0ma\u001b[0m\u001b[0;34m=\u001b[0m\u001b[0mint\u001b[0m\u001b[0;34m(\u001b[0m\u001b[0minput\u001b[0m\u001b[0;34m(\u001b[0m\u001b[0;34m\"introduzca el primer número\"\u001b[0m\u001b[0;34m)\u001b[0m\u001b[0;34m)\u001b[0m\u001b[0;34m\u001b[0m\u001b[0;34m\u001b[0m\u001b[0m\n\u001b[0m",
      "\u001b[0;31mValueError\u001b[0m: invalid literal for int() with base 10: ''"
     ]
    }
   ],
   "source": [
    "a=int(input(\"introduzca el primer número\"))"
   ]
  },
  {
   "cell_type": "code",
   "execution_count": null,
   "id": "0aee4b42-c42b-4afe-8c02-53c8f99a104c",
   "metadata": {},
   "outputs": [],
   "source": [
    "b=int(input(\"introduzca el segundo número\"))"
   ]
  },
  {
   "cell_type": "code",
   "execution_count": null,
   "id": "c3f2b4a8-6f41-49a8-bc5a-f8d31a983aef",
   "metadata": {},
   "outputs": [],
   "source": [
    "c=int(input(\"introduzca el tercer número\"))"
   ]
  },
  {
   "cell_type": "code",
   "execution_count": null,
   "id": "8ddab008-6166-4d83-9b4d-9acfcad4b1de",
   "metadata": {},
   "outputs": [],
   "source": [
    "producto=a*b*c"
   ]
  },
  {
   "cell_type": "code",
   "execution_count": null,
   "id": "7daf4d63-fc08-4cdf-8acc-bcf89d72e939",
   "metadata": {},
   "outputs": [],
   "source": [
    "print (producto)"
   ]
  }
 ],
 "metadata": {
  "kernelspec": {
   "display_name": "Python 3",
   "language": "python",
   "name": "python3"
  },
  "language_info": {
   "codemirror_mode": {
    "name": "ipython",
    "version": 3
   },
   "file_extension": ".py",
   "mimetype": "text/x-python",
   "name": "python",
   "nbconvert_exporter": "python",
   "pygments_lexer": "ipython3",
   "version": "3.8.8"
  }
 },
 "nbformat": 4,
 "nbformat_minor": 5
}
