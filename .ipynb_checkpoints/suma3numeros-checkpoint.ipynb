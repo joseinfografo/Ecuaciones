{
 "cells": [
  {
   "cell_type": "code",
   "execution_count": 1,
   "id": "9978ecbd-85fe-4c65-8565-1ad0a3d0e90c",
   "metadata": {},
   "outputs": [
    {
     "name": "stdin",
     "output_type": "stream",
     "text": [
      "introduzca el primer número 5\n"
     ]
    }
   ],
   "source": [
    "a=int(input(\"introduzca el primer número\"))"
   ]
  },
  {
   "cell_type": "code",
   "execution_count": 2,
   "id": "0aee4b42-c42b-4afe-8c02-53c8f99a104c",
   "metadata": {},
   "outputs": [
    {
     "name": "stdin",
     "output_type": "stream",
     "text": [
      "introduzca el segundo número 3\n"
     ]
    }
   ],
   "source": [
    "b=int(input(\"introduzca el segundo número\"))"
   ]
  },
  {
   "cell_type": "code",
   "execution_count": 3,
   "id": "c3f2b4a8-6f41-49a8-bc5a-f8d31a983aef",
   "metadata": {},
   "outputs": [
    {
     "name": "stdin",
     "output_type": "stream",
     "text": [
      "introduzca el tercer número 2\n"
     ]
    }
   ],
   "source": [
    "c=int(input(\"introduzca el tercer número\"))"
   ]
  },
  {
   "cell_type": "code",
   "execution_count": 4,
   "id": "8ddab008-6166-4d83-9b4d-9acfcad4b1de",
   "metadata": {},
   "outputs": [],
   "source": [
    "suma=a+b+c"
   ]
  },
  {
   "cell_type": "code",
   "execution_count": 5,
   "id": "7daf4d63-fc08-4cdf-8acc-bcf89d72e939",
   "metadata": {},
   "outputs": [
    {
     "name": "stdout",
     "output_type": "stream",
     "text": [
      "10\n"
     ]
    }
   ],
   "source": [
    "print (suma)"
   ]
  }
 ],
 "metadata": {
  "kernelspec": {
   "display_name": "Python 3",
   "language": "python",
   "name": "python3"
  },
  "language_info": {
   "codemirror_mode": {
    "name": "ipython",
    "version": 3
   },
   "file_extension": ".py",
   "mimetype": "text/x-python",
   "name": "python",
   "nbconvert_exporter": "python",
   "pygments_lexer": "ipython3",
   "version": "3.8.8"
  }
 },
 "nbformat": 4,
 "nbformat_minor": 5
}
