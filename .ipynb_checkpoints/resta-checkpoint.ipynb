{
 "cells": [
  {
   "cell_type": "code",
   "execution_count": 4,
   "id": "f0c45afc-bba6-4ed2-9b30-817c20f4d18a",
   "metadata": {},
   "outputs": [
    {
     "name": "stdin",
     "output_type": "stream",
     "text": [
      "introduzca el primer digito 5\n"
     ]
    }
   ],
   "source": [
    "a=int(input(\"introduzca el primer número\"))"
   ]
  },
  {
   "cell_type": "code",
   "execution_count": 5,
   "id": "4f8be7df-40a1-42f2-bf45-f57dd8f2b625",
   "metadata": {},
   "outputs": [
    {
     "name": "stdin",
     "output_type": "stream",
     "text": [
      "introduzca el segundo número 5\n"
     ]
    }
   ],
   "source": [
    "b=int(input(\"introduzca el segundo número\"))"
   ]
  },
  {
   "cell_type": "code",
   "execution_count": 6,
   "id": "152b7d2c-6138-4b05-9f1d-d30ebbe63fcb",
   "metadata": {},
   "outputs": [],
   "source": [
    "suma=a+b"
   ]
  },
  {
   "cell_type": "code",
   "execution_count": 7,
   "id": "df7aba42-bf26-40d5-b9e5-b5cdd19a8fff",
   "metadata": {},
   "outputs": [
    {
     "name": "stdout",
     "output_type": "stream",
     "text": [
      "10\n"
     ]
    }
   ],
   "source": [
    "print (suma)"
   ]
  }
 ],
 "metadata": {
  "kernelspec": {
   "display_name": "Python 3",
   "language": "python",
   "name": "python3"
  },
  "language_info": {
   "codemirror_mode": {
    "name": "ipython",
    "version": 3
   },
   "file_extension": ".py",
   "mimetype": "text/x-python",
   "name": "python",
   "nbconvert_exporter": "python",
   "pygments_lexer": "ipython3",
   "version": "3.8.8"
  }
 },
 "nbformat": 4,
 "nbformat_minor": 5
}
